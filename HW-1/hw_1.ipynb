{
 "cells": [
  {
   "cell_type": "markdown",
   "metadata": {},
   "source": [
    "# CyS 431 - HW 1\n",
    "C1C Jim Wang\n",
    "\n",
    "25 Jan 2021"
   ]
  },
  {
   "cell_type": "markdown",
   "metadata": {},
   "source": [
    "## Problem 1\n",
    "\n",
    "The ciphertext \"YXCYIS\" was produced by an affine cipher mod 26. Wes have reason to believe plaintext starts with “cr”.\n",
    "\n",
    "### (a) What's the key?\n",
    "Mapping each letter to their respective index, \"YXCYIS\" becomes:\n",
    "\n",
    "$$ YXCIS \\to 24,23, 2, 24, 8, 18 $$\n",
    "\n",
    "That was kind of annoying so we'll script that and its inverse funciton."
   ]
  },
  {
   "cell_type": "code",
   "execution_count": 1,
   "metadata": {},
   "outputs": [],
   "source": [
    "def alphabet_map(string_or_array):\n",
    "\n",
    "    if isinstance(string_or_array, str):\n",
    "        num_array = []\n",
    "        list(string_or_array)\n",
    "        for i in string_or_array.lower():\n",
    "            num_array.append(ord(i)-97)\n",
    "        return(num_array)\n",
    "    else:\n",
    "        word_array = []\n",
    "        for i in string_or_array:\n",
    "            word_array.append(chr(i+97))\n",
    "        ret_string = \"\"\n",
    "        return(ret_string.join(word_array))"
   ]
  },
  {
   "cell_type": "code",
   "execution_count": 2,
   "metadata": {},
   "outputs": [
    {
     "data": {
      "text/plain": [
       "[24, 23, 2, 8, 18]"
      ]
     },
     "execution_count": 2,
     "metadata": {},
     "output_type": "execute_result"
    }
   ],
   "source": [
    "alphabet_map(\"YXCIS\")"
   ]
  },
  {
   "cell_type": "markdown",
   "metadata": {},
   "source": [
    "Cool, so that's done. However, we now need to derive the cipher keys. We are given that the first two letters are \"cr\". Thus:\n",
    "$$ c \\to Y\\\\ r \\to X$$\n",
    "Converting this to numbers:"
   ]
  },
  {
   "cell_type": "code",
   "execution_count": 3,
   "metadata": {},
   "outputs": [
    {
     "data": {
      "text/plain": [
       "[2, 17]"
      ]
     },
     "execution_count": 3,
     "metadata": {},
     "output_type": "execute_result"
    }
   ],
   "source": [
    "alphabet_map(\"cr\")"
   ]
  },
  {
   "cell_type": "markdown",
   "metadata": {},
   "source": [
    "so we now have:\n",
    "$$ 02 \\to 24 \\\\ 17\\to 23$$\n",
    "and the system:\n",
    "$$ \\begin{align*}24 \\equiv 2\\alpha + \\beta \\mod{26}\\\\ 23 \\equiv 17\\alpha + \\beta \\mod{26} \\end{align*}$$"
   ]
  },
  {
   "cell_type": "markdown",
   "metadata": {},
   "source": [
    "\n",
    "Solving:\n",
    "\n",
    "$$\n",
    "    \\begin{align*}\n",
    "        24 \\equiv 2\\alpha + \\beta \\mod{26}\\\\ \n",
    "        23 \\equiv 17\\alpha + \\beta \\mod{26}\\\\\n",
    "\n",
    "        \\therefore -1\\equiv 25 \\equiv 15 \\alpha \\mod{26}\n",
    "    \\end{align*}\n",
    "$$\n",
    "\n",
    "Since $15 * 7 \\equiv 1 \\mod{26}$:\n",
    "\n",
    "$$\n",
    "    \\begin{align*}\n",
    "    25 * 7 \\equiv 15\\alpha * 7 \\equiv \\alpha \\mod{26}\\\\\n",
    "    \\therefore \\alpha \\equiv 25 * 7 \\equiv 175 \\equiv 19\\mod{26}\n",
    "    \\end{align*}\n",
    "$$\n",
    "\n",
    "Plugging in our $\\alpha$:\n",
    "\n",
    "$$\n",
    "    \\begin{align*}\n",
    "        24 \\equiv 2 * 19 + \\beta \\equiv 38 \\equiv 12 + \\beta \\mod{26}\\\\\n",
    "        \\therefore \\beta \\equiv 12 \\mod{26}\n",
    "    \\end{align*}\n",
    "$$\n",
    "\n",
    "\n",
    "Thus, $\\alpha = 19$ and $\\beta = 12$. I don't feel like coding this.\n"
   ]
  },
  {
   "cell_type": "markdown",
   "metadata": {},
   "source": [
    "### (b) What's the Message\n",
    "We will now decode our message using the affine cipher formula: $$P \\equiv \\gamma(C-\\beta) \\mod{26}$$where $\\gamma * \\alpha \\equiv 1 \\mod{26}$."
   ]
  },
  {
   "cell_type": "code",
   "execution_count": 4,
   "metadata": {},
   "outputs": [],
   "source": [
    "def affine(cipher_string, alpha, beta, decode):\n",
    "    valid = {True, False}\n",
    "\n",
    "    if decode not in valid:\n",
    "        raise ValueError(\"results: status must be one of %r.\" % valid)\n",
    "    \n",
    "    i_array = alphabet_map(cipher_string)\n",
    "    o_array = []\n",
    "\n",
    "    if decode:\n",
    "        for i in i_array:\n",
    "            gamma = pow(alpha, -1, 26)\n",
    "            o_array.append(gamma * (i - beta) % 26)\n",
    "        return(alphabet_map(o_array))\n",
    "    else:\n",
    "        cipher_string = cipher_string.lower()\n",
    "        for i in i_array:\n",
    "            o_array.append((alpha*i + beta ) %26)\n",
    "        return(alphabet_map(o_array).upper())"
   ]
  },
  {
   "cell_type": "code",
   "execution_count": 5,
   "metadata": {},
   "outputs": [
    {
     "name": "stdout",
     "output_type": "stream",
     "text": [
      "decoded message is: crucio\n",
      "plugging back into the affine: YXCYIS\n"
     ]
    }
   ],
   "source": [
    "print(\"decoded message is: \" + affine(\"YXCYIS\", 19, 12, decode=True))\n",
    "print(\"plugging back into the affine: \" + affine(\"crucio\", 19, 12, decode=False))"
   ]
  },
  {
   "cell_type": "markdown",
   "metadata": {},
   "source": [
    "### (b) What kind of attack is this?\n",
    "This is a ciphertext only attack as we do not have the encryption or decryption machine ($\\alpha$ and $\\beta$ are undefined in the problem statement).\n",
    "\n",
    "Just kidding it's a known plaintext attack."
   ]
  },
  {
   "cell_type": "markdown",
   "metadata": {},
   "source": [
    "## Question 2\n",
    "Suppose we encrypt a message with an affine cipher using key K1, then encrypt\n",
    "the ciphertext with an affine cipher using key K2. Is this double encryption more\n",
    "secure than just doing a single encryption? Support your answer mathematically.\n",
    "\n",
    "No, this is primarily because the size of the key space remains relatively similar between affine and double affine.\n",
    "\n",
    "Consider the affine cypher. Let $P$, $C_1$, $C_2$ be the plaintext, singly encrypted affine, and doubly encrypted affine respectively.\n",
    "\n",
    "Further, let $\\alpha$, $\\beta$ be keys for the affine such that $C_1 \\equiv \\alpha P + \\beta \\mod{26}$. While $\\beta$ can have 26 values $\\beta \\in \\{0,2,3\\dots,25\\}$, $\\alpha$ is restricted to all natural numbers under 26 such that $\\text{gcd}(\\alpha, 26) = 1$. Thus, $\\alpha$ may have $\\phi(26) = \\phi(2) * \\phi(13) = 1 * 12 = 12$ possible values. Thus, the key space for the affine cipher has only $12*26 = 312$ keys.\n",
    "\n",
    "Let $\\gamma$ and $\\delta$ be the keys for the second encryption such that $C_2 \\equiv \\gamma C_1 + \\delta \\mod{26} \\Rightarrow C_2 \\equiv \\gamma (\\alpha P + \\beta ) + \\delta \\equiv \\gamma\\alpha P + \\gamma\\beta \\mod{26}$. However, since we are still modulo 26, Thus, $\\gamma\\alpha$ and $\\gamma\\beta$ are each equivalent to some other number modulo 26. there are still $312$ keys."
   ]
  },
  {
   "cell_type": "markdown",
   "metadata": {},
   "source": [
    "## Question 3\n",
    "\n",
    "Suppose our alphabet has only 3 letters, A, B, and C, which occur in plaintext\n",
    "with frequency 75%, 15%, 10%, respectively. A message is encrypted with a\n",
    "Vigenere cipher (mod 3, of course), using a key that is of length 1, 2, or 3 (you don’t\n",
    "know which). If the ciphertext is CBCABAAACA.\n",
    "\n",
    "\n",
    "### (a) What is the key length?\n",
    "We're scripting!"
   ]
  },
  {
   "cell_type": "code",
   "execution_count": 6,
   "metadata": {},
   "outputs": [
    {
     "name": "stdout",
     "output_type": "stream",
     "text": [
      "the most likely key size is: 2\n"
     ]
    }
   ],
   "source": [
    "import re\n",
    "\n",
    "def find_key_size(cipher_text):\n",
    "    regex = re.compile('[^a-zA-Z]')\n",
    "    cipher_text = regex.sub('', cipher_text)\n",
    "    cipher_arr = list(cipher_text)\n",
    "\n",
    "    shift_dict = {}\n",
    "    for shift_value in range(1,len(cipher_arr)):\n",
    "        match = 0\n",
    "        for i in range(len(cipher_arr)):\n",
    "            if cipher_arr[i] == cipher_arr[(i + shift_value) % len(cipher_arr)]:\n",
    "                match += 1\n",
    "        shift_dict.update({shift_value:match})\n",
    "    try:\n",
    "        return max(shift_dict, key=shift_dict.get)\n",
    "    except:\n",
    "        return 0\n",
    "\n",
    "print(\"the most likely key size is: \" + str(find_key_size(\"CBCABAAACA\")))"
   ]
  },
  {
   "cell_type": "markdown",
   "metadata": {},
   "source": [
    "### (b) What is the key?\n",
    "\n",
    "By using the book's technique, we find that the most likely key size has length 2. We will now conduct frequency analysis on the letters of indices modulo 2."
   ]
  },
  {
   "cell_type": "code",
   "execution_count": 7,
   "metadata": {},
   "outputs": [
    {
     "name": "stdout",
     "output_type": "stream",
     "text": [
      "A likely key is: CA\n"
     ]
    }
   ],
   "source": [
    "import numpy as np\n",
    "\n",
    "# helper function from #9 originally but it's useful here since we're doing the same thing\n",
    "def frequency(txt, sign):\n",
    "    counter: int = 0\n",
    "    for s in txt:\n",
    "        if s != sign:\n",
    "            continue\n",
    "        counter += 1\n",
    "    return counter\n",
    "\n",
    "\n",
    "def find_key(cipher_text):\n",
    "    key_length = find_key_size(cipher_text)\n",
    "    cipher_arr = np.array(list(cipher_text))\n",
    "\n",
    "    string_array = []\n",
    "    dict_array = []\n",
    "    key_array = []\n",
    "\n",
    "    for mod_val in range(key_length):\n",
    "        string_array.append(cipher_arr[mod_val::key_length])\n",
    "\n",
    "    for string in string_array:\n",
    "        value_dict = {}\n",
    "\n",
    "        for s in 'ABC':\n",
    "            word_freq = frequency(string, s)\n",
    "            percent = 100 * word_freq / len(string)\n",
    "            value_dict.update({s: percent})\n",
    "\n",
    "        value_dict = {k: v for k, v in sorted(\n",
    "            value_dict.items(), key=lambda item: item[1], reverse=True)}\n",
    "\n",
    "        dict_array.append(value_dict)\n",
    "\n",
    "    for word_dict in dict_array:\n",
    "        val = list(word_dict.keys())[0]\n",
    "        key_array.append(val)\n",
    "\n",
    "    str = \"\"\n",
    "    return str.join(key_array)\n",
    "\n",
    "#key is CA\n",
    "print(\"A likely key is: \" + find_key(\"CBCABAAACA\"))"
   ]
  },
  {
   "cell_type": "markdown",
   "metadata": {},
   "source": [
    "## Quesiton 4\n",
    "\n",
    "### a) \n",
    "Our friend is correct\n",
    "\n",
    "### b)\n",
    "Consider the \n",
    "\n"
   ]
  },
  {
   "cell_type": "markdown",
   "metadata": {},
   "source": [
    "## Quesiton 5\n",
    "\n",
    "We want to find the entropy for a coin flip: We use the formula\n",
    "\n",
    "$$\n",
    "    \\begin{align}\n",
    "        H(E_1) = -\\sum_{x\\in X} p(x)\\log_2(p(x)) = -(0.5*-2 + 0.5 * -2) = 1\n",
    "    \\end{align}\n",
    "$$\n"
   ]
  },
  {
   "cell_type": "markdown",
   "metadata": {},
   "source": [
    "## Quesiton 6\n",
    "\n",
    ":)"
   ]
  },
  {
   "cell_type": "markdown",
   "metadata": {},
   "source": [
    "## Quesiton 7\n",
    "\n",
    "bruh"
   ]
  },
  {
   "cell_type": "markdown",
   "metadata": {},
   "source": [
    "## Quesiton 8\n",
    "\n",
    "reee"
   ]
  },
  {
   "cell_type": "markdown",
   "metadata": {},
   "source": [
    "## Question 9\n",
    "\n",
    "Write a small program that loads in a text file of any size and then prints the\n",
    "frequency (as a percentage) of each character (‘a’..’z’). All characters should be made\n",
    "lowercase for counting purposes. Ignore punctuation, spaces, etc."
   ]
  },
  {
   "cell_type": "code",
   "execution_count": 8,
   "metadata": {},
   "outputs": [
    {
     "name": "stdout",
     "output_type": "stream",
     "text": [
      "'e' - 12.61%\n",
      "'t' - 9.75%\n",
      "'a' - 7.99%\n",
      "'i' - 7.33%\n",
      "'n' - 6.76%\n",
      "'o' - 6.52%\n",
      "'h' - 6.18%\n",
      "'r' - 5.76%\n",
      "'s' - 5.28%\n",
      "'c' - 4.04%\n",
      "'l' - 3.95%\n",
      "'y' - 3.19%\n",
      "'p' - 3.0%\n",
      "'u' - 2.81%\n",
      "'d' - 2.19%\n",
      "'f' - 2.09%\n",
      "'g' - 2.09%\n",
      "'w' - 1.95%\n",
      "'b' - 1.76%\n",
      "'m' - 1.76%\n",
      "'k' - 1.14%\n",
      "'v' - 0.67%\n",
      "'x' - 0.67%\n",
      "'q' - 0.24%\n",
      "'z' - 0.19%\n",
      "'j' - 0.1%\n"
     ]
    }
   ],
   "source": [
    "with open('../testFiles/hw1.txt', 'r') as file:\n",
    "    raw_string = file.read().replace('\\n', '').lower()\n",
    "\n",
    "regex = re.compile('[^a-zA-Z]')\n",
    "raw_string = regex.sub('', raw_string)\n",
    "\n",
    "value_dict = {}\n",
    "\n",
    "for s in 'abcdefghijklmnopqrstuvwxyz':\n",
    "    word_freq = frequency(raw_string, s)\n",
    "    percent = 100 * word_freq / len(raw_string)\n",
    "    value_dict.update({s: percent})\n",
    "\n",
    "value_dict = {k: v for k, v in sorted(\n",
    "    value_dict.items(), key=lambda item: item[1], reverse=True)}\n",
    "\n",
    "for key, val in value_dict.items():\n",
    "    val = str(round(val, 2))\n",
    "    print('\\'' + key + '\\'' + ' - ' + val + '%')\n"
   ]
  }
 ],
 "metadata": {
  "interpreter": {
   "hash": "532cc7fbfa8aa86278e3570e66fbce4b313d666e92e154c35bf0d8cfb77fe451"
  },
  "kernelspec": {
   "display_name": "Python 3 (ipykernel)",
   "language": "python",
   "name": "python3"
  },
  "language_info": {
   "codemirror_mode": {
    "name": "ipython",
    "version": 3
   },
   "file_extension": ".py",
   "mimetype": "text/x-python",
   "name": "python",
   "nbconvert_exporter": "python",
   "pygments_lexer": "ipython3",
   "version": "3.9.7"
  }
 },
 "nbformat": 4,
 "nbformat_minor": 2
}
