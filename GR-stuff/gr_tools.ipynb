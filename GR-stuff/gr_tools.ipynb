{
 "cells": [
  {
   "cell_type": "code",
   "execution_count": 15,
   "metadata": {},
   "outputs": [
    {
     "name": "stdout",
     "output_type": "stream",
     "text": [
      "[19, 4, 18, 19] test\n"
     ]
    }
   ],
   "source": [
    "def alphabet_map(string_or_array):\n",
    "\n",
    "    if isinstance(string_or_array, str):\n",
    "        num_array = []\n",
    "        list(string_or_array)\n",
    "        for i in string_or_array.lower():\n",
    "            num_array.append(ord(i)-97)\n",
    "        return(num_array)\n",
    "    else:\n",
    "        word_array = []\n",
    "        for i in string_or_array:\n",
    "            word_array.append(chr(i+97))\n",
    "        ret_string = \"\"\n",
    "        return(ret_string.join(word_array))\n",
    "\n",
    "print(alphabet_map(\"test\"), alphabet_map([19, 4, 18, 19]))"
   ]
  },
  {
   "cell_type": "code",
   "execution_count": 16,
   "metadata": {},
   "outputs": [
    {
     "name": "stdout",
     "output_type": "stream",
     "text": [
      "crucio YXCYIS\n"
     ]
    }
   ],
   "source": [
    "def affine(cipher_string, alpha, beta, decode):\n",
    "    valid = {True, False}\n",
    "\n",
    "    if decode not in valid:\n",
    "        raise ValueError(\"results: status must be one of %r.\" % valid)\n",
    "    \n",
    "    i_array = alphabet_map(cipher_string)\n",
    "    o_array = []\n",
    "\n",
    "    if decode:\n",
    "        for i in i_array:\n",
    "            gamma = pow(alpha, -1, 26)\n",
    "            o_array.append(gamma * (i - beta) % 26)\n",
    "        return(alphabet_map(o_array))\n",
    "    else:\n",
    "        cipher_string = cipher_string.lower()\n",
    "        for i in i_array:\n",
    "            o_array.append((alpha*i + beta ) %26)\n",
    "        return(alphabet_map(o_array).upper())\n",
    "\n",
    "print(affine('YXCYIS', 19, 12, True), affine('crucio', alpha= 19, beta = 12, decode = False))"
   ]
  },
  {
   "cell_type": "code",
   "execution_count": 17,
   "metadata": {},
   "outputs": [
    {
     "name": "stdout",
     "output_type": "stream",
     "text": [
      "the most likely key size is: 2 \n"
     ]
    }
   ],
   "source": [
    "import re\n",
    "\n",
    "def find_key_size(cipher_text):\n",
    "    regex = re.compile('[^a-zA-Z]')\n",
    "    cipher_text = regex.sub('', cipher_text)\n",
    "    cipher_arr = list(cipher_text)\n",
    "\n",
    "    shift_dict = {}\n",
    "    for shift_value in range(1,len(cipher_arr)):\n",
    "        match = 0\n",
    "        for i in range(len(cipher_arr)):\n",
    "            if cipher_arr[i] == cipher_arr[(i + shift_value) % len(cipher_arr)]:\n",
    "                match += 1\n",
    "        shift_dict.update({shift_value:match})\n",
    "    try:\n",
    "        return max(shift_dict, key=shift_dict.get)\n",
    "    except:\n",
    "        return 0\n",
    "\n",
    "print(f'the most likely key size is: {str(find_key_size(\"CBCABAAACA\"))} ')"
   ]
  },
  {
   "cell_type": "code",
   "execution_count": 18,
   "metadata": {},
   "outputs": [
    {
     "name": "stdout",
     "output_type": "stream",
     "text": [
      "A likely key is: CA\n"
     ]
    }
   ],
   "source": [
    "import numpy as np\n",
    "\n",
    "# helper function from #9 originally but it's useful here since we're doing the same thing\n",
    "def frequency(txt, sign):\n",
    "    counter: int = 0\n",
    "    for s in txt:\n",
    "        if s != sign:\n",
    "            continue\n",
    "        counter += 1\n",
    "    return counter\n",
    "\n",
    "\n",
    "def find_key(cipher_text):\n",
    "    key_length = find_key_size(cipher_text)\n",
    "    cipher_arr = np.array(list(cipher_text))\n",
    "\n",
    "    string_array = []\n",
    "    dict_array = []\n",
    "    key_array = []\n",
    "\n",
    "    for mod_val in range(key_length):\n",
    "        string_array.append(cipher_arr[mod_val::key_length])\n",
    "\n",
    "    for string in string_array:\n",
    "        value_dict = {}\n",
    "\n",
    "        for s in 'ABCDEFGHIJKLMNOPQRSTUVWXYZ':\n",
    "            word_freq = frequency(string, s)\n",
    "            percent = 100 * word_freq / len(string)\n",
    "            value_dict.update({s: percent})\n",
    "\n",
    "        value_dict = {k: v for k, v in sorted(\n",
    "            value_dict.items(), key=lambda item: item[1], reverse=True)}\n",
    "\n",
    "        dict_array.append(value_dict)\n",
    "\n",
    "    for word_dict in dict_array:\n",
    "        val = list(word_dict.keys())[0]\n",
    "        key_array.append(val)\n",
    "\n",
    "    str = \"\"\n",
    "    return str.join(key_array)\n",
    "\n",
    "#key is CA\n",
    "print(\"A likely key is: \" + find_key(\"CBCABAAACA\"))"
   ]
  },
  {
   "cell_type": "code",
   "execution_count": 25,
   "metadata": {},
   "outputs": [
    {
     "name": "stdout",
     "output_type": "stream",
     "text": [
      "The GCD is 1\n",
      "1 = -2(2) + 1(5)\n"
     ]
    }
   ],
   "source": [
    "def EEA(a, b):\n",
    "    if a == 0:\n",
    "        return b, 0, 1\n",
    "    else:\n",
    "        gcd, x, y = EEA(b % a, a)\n",
    "        return gcd, y - (b // a) * x, x\n",
    " \n",
    "a = 2\n",
    "b = 5\n",
    "\n",
    "gcd, x, y = EEA(2, 5)\n",
    "print('The GCD is', gcd)\n",
    "print(f'{gcd} = {x}({a}) + {y}({b})')"
   ]
  },
  {
   "cell_type": "code",
   "execution_count": 59,
   "metadata": {},
   "outputs": [
    {
     "data": {
      "text/plain": [
       "60"
      ]
     },
     "execution_count": 59,
     "metadata": {},
     "output_type": "execute_result"
    }
   ],
   "source": [
    "import numpy as np\n",
    "from math import ceil, log2\n",
    "\n",
    "def modular_exponentiation(a,b,n): # for a^b mod(n)\n",
    "    pow_dict = []\n",
    "    for i in range(0,ceil(log2(b))):\n",
    "        pow_dict.insert(0, (pow(2,i)))\n",
    "    binary_b = [int(x) for x in list(format(b, \"b\"))]\n",
    "    return np.prod([pow(a,x*y) % n for x,y in zip(pow_dict, binary_b) if x*y!=0])%n\n",
    "\n",
    "modular_exponentiation(5, 110, 131)"
   ]
  },
  {
   "cell_type": "code",
   "execution_count": null,
   "metadata": {},
   "outputs": [],
   "source": []
  }
 ],
 "metadata": {
  "interpreter": {
   "hash": "f5c89ac8f655ef5725573181cea2b9194472e63e693f5bbcb02f6a286fc2006c"
  },
  "kernelspec": {
   "display_name": "Python 3.8.12",
   "language": "python",
   "name": "python3"
  },
  "language_info": {
   "codemirror_mode": {
    "name": "ipython",
    "version": 3
   },
   "file_extension": ".py",
   "mimetype": "text/x-python",
   "name": "python",
   "nbconvert_exporter": "python",
   "pygments_lexer": "ipython3",
   "version": "3.8.12"
  },
  "orig_nbformat": 4
 },
 "nbformat": 4,
 "nbformat_minor": 2
}
