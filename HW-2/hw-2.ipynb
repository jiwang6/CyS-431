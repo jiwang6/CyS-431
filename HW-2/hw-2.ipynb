{
 "cells": [
  {
   "cell_type": "markdown",
   "metadata": {},
   "source": [
    "## Problem 8c"
   ]
  },
  {
   "cell_type": "code",
   "execution_count": 20,
   "metadata": {},
   "outputs": [
    {
     "data": {
      "text/plain": [
       "'no solution'"
      ]
     },
     "execution_count": 20,
     "metadata": {},
     "output_type": "execute_result"
    }
   ],
   "source": [
    "def quad_brute(a, n):\n",
    "    for i in range(0,n):\n",
    "        if (pow(i,2) % n == a): return str(i)\n",
    "    return \"no solution\"\n",
    "\n",
    "quad_brute(14,29)"
   ]
  },
  {
   "cell_type": "markdown",
   "metadata": {},
   "source": [
    "## Problem 9\n"
   ]
  },
  {
   "cell_type": "code",
   "execution_count": 21,
   "metadata": {},
   "outputs": [
    {
     "name": "stdout",
     "output_type": "stream",
     "text": [
      "gcd(106,23) = 1\n",
      "1 = 106(-23) + 23(5)\n",
      "106^-1 = -23 (mod 23)\n",
      "23^-1 = 5 (mod 106)\n"
     ]
    }
   ],
   "source": [
    "#from https://www.techiedelight.com/extended-euclidean-algorithm-implementation/\n",
    "\n",
    "def EEA(b, a):\n",
    "    if b == 0:\n",
    "        return a, 0, 1\n",
    "    else:\n",
    "        #print(f'{a} = {a//b}({b}) + {a%b}')\n",
    "        gcd, x, y = EEA(a % b, b)\n",
    "        return gcd, y - (a // b) * x, x\n",
    " \n",
    "a = 106\n",
    "b = 23\n",
    "\n",
    "gcd, x, y = EEA(b, a)\n",
    "print(f'gcd({a},{b}) = {gcd}')\n",
    "print(f'{gcd} = {a}({x}) + {b}({y})')\n",
    "if gcd ==1:\n",
    "    print(f'{a}^-1 = {x} (mod {b})')\n",
    "    print(f'{b}^-1 = {y} (mod {a})')"
   ]
  }
 ],
 "metadata": {
  "interpreter": {
   "hash": "532cc7fbfa8aa86278e3570e66fbce4b313d666e92e154c35bf0d8cfb77fe451"
  },
  "kernelspec": {
   "display_name": "Python 3.9.7 ('base')",
   "language": "python",
   "name": "python3"
  },
  "language_info": {
   "codemirror_mode": {
    "name": "ipython",
    "version": 3
   },
   "file_extension": ".py",
   "mimetype": "text/x-python",
   "name": "python",
   "nbconvert_exporter": "python",
   "pygments_lexer": "ipython3",
   "version": "3.9.7"
  },
  "orig_nbformat": 4
 },
 "nbformat": 4,
 "nbformat_minor": 2
}
