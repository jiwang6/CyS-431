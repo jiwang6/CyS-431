{
 "cells": [
  {
   "cell_type": "markdown",
   "metadata": {},
   "source": [
    "## Problem 5\n",
    "\n",
    "Code adapted from https://gist.github.com/thomdixon/dd1e280681f16535fbf1"
   ]
  },
  {
   "cell_type": "code",
   "execution_count": 3,
   "metadata": {},
   "outputs": [
    {
     "name": "stdout",
     "output_type": "stream",
     "text": [
      "factor p = 1279 found; a = 250886, b = 129381\n",
      "for n = 638221, we have factors: [1279, 499]\n"
     ]
    }
   ],
   "source": [
    "from math import gcd\n",
    "\n",
    "factors = []\n",
    "\n",
    "def pollard_rho(n, seed=2, f=lambda x: x**2 + 1):\n",
    "    a, b, d = seed, seed, 1\n",
    "    while d == 1:\n",
    "        a = f(a) % n\n",
    "        b = f(f(b)) % n\n",
    "        d = gcd((a - b) % n, n)\n",
    "        m = n/d\n",
    "    if d != n and m.is_integer:\n",
    "        print(f\"factor p = {d} found; a = {a}, b = {b}\")\n",
    "\n",
    "        factors.append(d)\n",
    "        pollard_rho(int(m))\n",
    "    else:\n",
    "        factors.append(d)\n",
    "\n",
    "n = 638221\n",
    "pollard_rho(n)\n",
    "\n",
    "print(f\"for n = {n}, we have factors: {factors}\")"
   ]
  },
  {
   "cell_type": "markdown",
   "metadata": {},
   "source": [
    "## Problem 6\n",
    "\n",
    "Code adapted from https://gist.github.com/Ayrx/5884790"
   ]
  },
  {
   "cell_type": "code",
   "execution_count": 4,
   "metadata": {},
   "outputs": [
    {
     "name": "stdout",
     "output_type": "stream",
     "text": [
      "17 = 2^4 * 1 + 1\n",
      "good equations:\n",
      "13 = 13^1 (mod 17)\n",
      "4 = 4^1 (mod 17)\n",
      "12 = 12^1 (mod 17)\n",
      "5 = 5^1 (mod 17)\n",
      "11 = 11^1 (mod 17)\n",
      "17 is Prime\n",
      "\n",
      "36 = 2^0 * 35 + 1\n",
      "36 is not Prime\n",
      "\n",
      "43 = 2^1 * 21 + 1\n",
      "good equations:\n",
      "42 = 29^21 (mod 43)\n",
      "42 = 32^21 (mod 43)\n",
      "42 = 12^21 (mod 43)\n",
      "42 = 5^21 (mod 43)\n",
      "1 = 13^21 (mod 43)\n",
      "43 is Prime\n",
      "\n"
     ]
    }
   ],
   "source": [
    "import random\n",
    "\n",
    "def miller_rabin(n, t):\n",
    "\ts, r = 0, n - 1\n",
    "\twhile r % 2 == 0:\n",
    "\t\ts += 1\n",
    "\t\tr //= 2\n",
    "\n",
    "\tprint(f\"{n} = 2^{s} * {r} + 1\")\n",
    "\n",
    "\tif n == 2:\n",
    "\t\treturn True\n",
    "\tif n % 2 == 0:\n",
    "\t\treturn False\n",
    "\n",
    "\tprint(\"good equations:\")\n",
    "\tfor _ in range(t):\n",
    "\t\ta = random.randrange(2, n - 1)\n",
    "\t\ty = pow(a, r, n)\n",
    "\t\tprint(f\"{y} = {a}^{r} (mod {n})\")\n",
    "\t\t\n",
    "\t\tif y == 1 or y == n - 1:\n",
    "\t\t\tcontinue\n",
    "\t\tfor _ in range(s - 1):\n",
    "\t\t\ty = pow(y, 2, n)\n",
    "\t\t\tif y == n - 1:\n",
    "\t\t\t\tbreak\n",
    "\t\telse:\n",
    "\t\t\treturn False\n",
    "\treturn True\n",
    "\n",
    "for i in [17,36,43]:\n",
    "\tprint(f\"{i} is Prime\" if miller_rabin(i,5) else f\"{i} is not Prime\", end = \"\\n\\n\")"
   ]
  }
 ],
 "metadata": {
  "interpreter": {
   "hash": "532cc7fbfa8aa86278e3570e66fbce4b313d666e92e154c35bf0d8cfb77fe451"
  },
  "kernelspec": {
   "display_name": "Python 3.9.7 ('base')",
   "language": "python",
   "name": "python3"
  },
  "language_info": {
   "codemirror_mode": {
    "name": "ipython",
    "version": 3
   },
   "file_extension": ".py",
   "mimetype": "text/x-python",
   "name": "python",
   "nbconvert_exporter": "python",
   "pygments_lexer": "ipython3",
   "version": "3.9.7"
  },
  "orig_nbformat": 4
 },
 "nbformat": 4,
 "nbformat_minor": 2
}
