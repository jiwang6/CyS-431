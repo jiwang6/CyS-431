{
 "cells": [
  {
   "cell_type": "markdown",
   "metadata": {},
   "source": [
    "# CyS 431 - HW 1\n",
    "C1C Jim Wang\n",
    "\n",
    "13 Jan 2021"
   ]
  },
  {
   "cell_type": "markdown",
   "metadata": {},
   "source": [
    "## Problem 1\n",
    "\n",
    "The ciphertext \"YXCYIS\" was produced by an affine cipher mod 26. You have reason to believe plaintext starts with “cr”.\n",
    "\n",
    "### (a) What's the key?\n",
    "Mapping each letter to their respective index, \"YXCYIS\" becomes:\n",
    "\n",
    "$$ YXCIS \\to 24,23, 2, 24, 8, 18 $$\n",
    "\n",
    "That was kind of annoying so we'll script that and its inverse funciton."
   ]
  },
  {
   "cell_type": "code",
   "execution_count": 54,
   "metadata": {},
   "outputs": [],
   "source": [
    "def alphabet_map(string_or_array):\n",
    "\n",
    "    if isinstance(string_or_array, str):\n",
    "        num_array = []\n",
    "        list(string_or_array)\n",
    "        for i in string_or_array.lower():\n",
    "            num_array.append(ord(i)-97)\n",
    "        return(num_array)\n",
    "    else:\n",
    "        word_array = []\n",
    "        for i in string_or_array:\n",
    "            word_array.append(chr(i+97))\n",
    "        ret_string = \"\"\n",
    "        return(ret_string.join(word_array))"
   ]
  },
  {
   "cell_type": "code",
   "execution_count": 55,
   "metadata": {},
   "outputs": [
    {
     "data": {
      "text/plain": [
       "[24, 23, 2, 8, 18]"
      ]
     },
     "execution_count": 55,
     "metadata": {},
     "output_type": "execute_result"
    }
   ],
   "source": [
    "alphabet_map(\"YXCIS\")"
   ]
  },
  {
   "cell_type": "markdown",
   "metadata": {},
   "source": [
    "Cool, so that's done. However, we now need to derive the cipher keys. We are given that the first two letters are \"cr\". Thus:\n",
    "$$ c \\to Y\\\\ r \\to X$$\n",
    "Converting this to numbers:"
   ]
  },
  {
   "cell_type": "code",
   "execution_count": 56,
   "metadata": {},
   "outputs": [
    {
     "data": {
      "text/plain": [
       "[2, 17]"
      ]
     },
     "execution_count": 56,
     "metadata": {},
     "output_type": "execute_result"
    }
   ],
   "source": [
    "alphabet_map(\"cr\")"
   ]
  },
  {
   "cell_type": "markdown",
   "metadata": {},
   "source": [
    "so we now have:\n",
    "$$ 02 \\to 24 \\\\ 17\\to 23$$\n",
    "and the system:\n",
    "$$ \\begin{align*}24 \\equiv 2\\alpha + \\beta \\mod{26}\\\\ 23 \\equiv 17\\alpha + \\beta \\mod{26} \\end{align*}$$"
   ]
  },
  {
   "cell_type": "markdown",
   "metadata": {},
   "source": [
    "Solving:\n",
    "$$\n",
    "    \\begin{align*}\n",
    "    24 \\equiv 2\\alpha + \\beta \\mod{26}\\\\ \n",
    "    23 \\equiv 17\\alpha + \\beta \\mod{26}\\\\\n",
    "\n",
    "    \\therefore -1\\equiv 25 \\equiv 15 \\alpha \\mod{26}\n",
    "    \\end{align*}\n",
    "$$\n",
    "\n",
    "Since $15 * 7 \\equiv 1 \\mod{26}$:\n",
    "\n",
    "$$\n",
    "    \\begin{align*}\n",
    "    25 * 7 \\equiv 15\\alpha * 7 \\equiv \\alpha \\mod{26}\\\\\n",
    "    \\therefore \\alpha \\equiv 25 * 7 \\equiv 175 \\equiv 19\\mod{26}\n",
    "    \\end{align*}\n",
    "$$\n",
    "\n",
    "Plugging in our $\\alpha$:\n",
    "$$\n",
    "    \\begin{align*}\n",
    "        24 \\equiv 2 * 19 + \\beta \\equiv 38 \\equiv 12 + \\beta \\mod{26}\\\\\n",
    "        \\therefore \\beta \\equiv 12 \\mod{26}\n",
    "    \\end{align*}\n",
    "$$\n",
    "\n",
    "\n",
    "Thus, $\\alpha = 19$ and $\\beta = 12$. I don't feel like coding this.\n"
   ]
  },
  {
   "cell_type": "markdown",
   "metadata": {},
   "source": [
    "### (b) What's the Message\n",
    "We will now decode our message using the affine cipher formula: $P \\equiv \\gamma(C-\\beta) \\mod{26}$, where $\\gamma * \\alpha \\equiv 1 \\mod{26}$."
   ]
  },
  {
   "cell_type": "code",
   "execution_count": 57,
   "metadata": {},
   "outputs": [
    {
     "name": "stdout",
     "output_type": "stream",
     "text": [
      "cruio\n"
     ]
    }
   ],
   "source": [
    "def decode_affine(cipher_string, alpha, beta):\n",
    "    c_array = alphabet_map(cipher_string)\n",
    "    p_array = []\n",
    "\n",
    "    for i in c_array:\n",
    "        gamma = pow(alpha, -1, 26)\n",
    "        p_array.append(gamma * (i - beta) % 26)\n",
    "\n",
    "    print(alphabet_map(p_array))\n",
    "\n",
    "decode_affine(\"YXCIS\", 19, 12)\n"
   ]
  }
 ],
 "metadata": {
  "interpreter": {
   "hash": "532cc7fbfa8aa86278e3570e66fbce4b313d666e92e154c35bf0d8cfb77fe451"
  },
  "kernelspec": {
   "display_name": "Python 3.9.7 64-bit ('base': conda)",
   "language": "python",
   "name": "python3"
  },
  "language_info": {
   "codemirror_mode": {
    "name": "ipython",
    "version": 3
   },
   "file_extension": ".py",
   "mimetype": "text/x-python",
   "name": "python",
   "nbconvert_exporter": "python",
   "pygments_lexer": "ipython3",
   "version": "3.9.7"
  },
  "orig_nbformat": 4
 },
 "nbformat": 4,
 "nbformat_minor": 2
}
