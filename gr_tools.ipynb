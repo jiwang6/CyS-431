{
 "cells": [
  {
   "cell_type": "code",
   "execution_count": 3,
   "metadata": {},
   "outputs": [
    {
     "name": "stdout",
     "output_type": "stream",
     "text": [
      "[19, 4, 18, 19] test\n"
     ]
    }
   ],
   "source": [
    "def alphabet_map(string_or_array):\n",
    "\n",
    "    if isinstance(string_or_array, str):\n",
    "        num_array = []\n",
    "        list(string_or_array)\n",
    "        for i in string_or_array.lower():\n",
    "            num_array.append(ord(i)-97)\n",
    "        return(num_array)\n",
    "    else:\n",
    "        word_array = []\n",
    "        for i in string_or_array:\n",
    "            word_array.append(chr(i+97))\n",
    "        ret_string = \"\"\n",
    "        return(ret_string.join(word_array))\n",
    "\n",
    "print(alphabet_map(\"test\"), alphabet_map([19, 4, 18, 19]))"
   ]
  },
  {
   "cell_type": "code",
   "execution_count": 4,
   "metadata": {},
   "outputs": [
    {
     "name": "stdout",
     "output_type": "stream",
     "text": [
      "crucio YXCYIS\n"
     ]
    }
   ],
   "source": [
    "def affine(cipher_string, alpha, beta, decode):\n",
    "    valid = {True, False}\n",
    "\n",
    "    if decode not in valid:\n",
    "        raise ValueError(\"results: status must be one of %r.\" % valid)\n",
    "    \n",
    "    i_array = alphabet_map(cipher_string)\n",
    "    o_array = []\n",
    "\n",
    "    if decode:\n",
    "        for i in i_array:\n",
    "            gamma = pow(alpha, -1, 26)\n",
    "            o_array.append(gamma * (i - beta) % 26)\n",
    "        return(alphabet_map(o_array))\n",
    "    else:\n",
    "        cipher_string = cipher_string.lower()\n",
    "        for i in i_array:\n",
    "            o_array.append((alpha*i + beta ) %26)\n",
    "        return(alphabet_map(o_array).upper())\n",
    "\n",
    "print(affine('YXCYIS', 19, 12, True), affine('crucio', alpha= 19, beta = 12, decode = False))"
   ]
  },
  {
   "cell_type": "code",
   "execution_count": 5,
   "metadata": {},
   "outputs": [
    {
     "name": "stdout",
     "output_type": "stream",
     "text": [
      "the most likely key size is: 2 \n"
     ]
    }
   ],
   "source": [
    "import re\n",
    "\n",
    "def find_key_size(cipher_text):\n",
    "    regex = re.compile('[^a-zA-Z]')\n",
    "    cipher_text = regex.sub('', cipher_text)\n",
    "    cipher_arr = list(cipher_text)\n",
    "\n",
    "    shift_dict = {}\n",
    "    for shift_value in range(1,len(cipher_arr)):\n",
    "        match = 0\n",
    "        for i in range(len(cipher_arr)):\n",
    "            if cipher_arr[i] == cipher_arr[(i + shift_value) % len(cipher_arr)]:\n",
    "                match += 1\n",
    "        shift_dict.update({shift_value:match})\n",
    "    try:\n",
    "        return max(shift_dict, key=shift_dict.get)\n",
    "    except:\n",
    "        return 0\n",
    "\n",
    "print(f'the most likely key size is: {str(find_key_size(\"CBCABAAACA\"))} ')"
   ]
  },
  {
   "cell_type": "code",
   "execution_count": 6,
   "metadata": {},
   "outputs": [
    {
     "name": "stdout",
     "output_type": "stream",
     "text": [
      "A likely key is: CA\n"
     ]
    }
   ],
   "source": [
    "import numpy as np\n",
    "\n",
    "# helper function from #9 originally but it's useful here since we're doing the same thing\n",
    "def frequency(txt, sign):\n",
    "    counter: int = 0\n",
    "    for s in txt:\n",
    "        if s != sign:\n",
    "            continue\n",
    "        counter += 1\n",
    "    return counter\n",
    "\n",
    "\n",
    "def find_key(cipher_text):\n",
    "    key_length = find_key_size(cipher_text)\n",
    "    cipher_arr = np.array(list(cipher_text))\n",
    "\n",
    "    string_array = []\n",
    "    dict_array = []\n",
    "    key_array = []\n",
    "\n",
    "    for mod_val in range(key_length):\n",
    "        string_array.append(cipher_arr[mod_val::key_length])\n",
    "\n",
    "    for string in string_array:\n",
    "        value_dict = {}\n",
    "\n",
    "        for s in 'ABCDEFGHIJKLMNOPQRSTUVWXYZ':\n",
    "            word_freq = frequency(string, s)\n",
    "            percent = 100 * word_freq / len(string)\n",
    "            value_dict.update({s: percent})\n",
    "\n",
    "        value_dict = {k: v for k, v in sorted(\n",
    "            value_dict.items(), key=lambda item: item[1], reverse=True)}\n",
    "\n",
    "        dict_array.append(value_dict)\n",
    "\n",
    "    for word_dict in dict_array:\n",
    "        val = list(word_dict.keys())[0]\n",
    "        key_array.append(val)\n",
    "\n",
    "    str = \"\"\n",
    "    return str.join(key_array)\n",
    "\n",
    "#key is CA\n",
    "print(\"A likely key is: \" + find_key(\"CBCABAAACA\"))"
   ]
  },
  {
   "cell_type": "code",
   "execution_count": 7,
   "metadata": {},
   "outputs": [
    {
     "name": "stdout",
     "output_type": "stream",
     "text": [
      "The GCD is 1\n",
      "1 = -2(2) + 1(5)\n"
     ]
    }
   ],
   "source": [
    "def EEA(a, b):\n",
    "    if a == 0:\n",
    "        return b, 0, 1\n",
    "    else:\n",
    "        gcd, x, y = EEA(b % a, a)\n",
    "        return gcd, y - (b // a) * x, x\n",
    " \n",
    "a = 2\n",
    "b = 5\n",
    "\n",
    "gcd, x, y = EEA(a, b)\n",
    "print('The GCD is', gcd)\n",
    "print(f'{gcd} = {x}({a}) + {y}({b})')"
   ]
  },
  {
   "cell_type": "code",
   "execution_count": 8,
   "metadata": {},
   "outputs": [
    {
     "data": {
      "text/plain": [
       "1"
      ]
     },
     "execution_count": 8,
     "metadata": {},
     "output_type": "execute_result"
    }
   ],
   "source": [
    "import numpy as np\n",
    "from math import ceil, log2, floor\n",
    "\n",
    "def mod_exp(a,b,n): # for a^b mod(n)\n",
    "    pow_dict = [pow(2,i) for i in range(floor(log2(b)),-1,-1)]\n",
    "    binary_b = [int(x) for x in list(format(b, \"b\"))]\n",
    "    return np.prod([pow(a,x*y) % n for x,y in zip(pow_dict, binary_b)]) % n\n",
    "\n",
    "mod_exp(43855823121249, 22, 23)"
   ]
  },
  {
   "cell_type": "code",
   "execution_count": 9,
   "metadata": {},
   "outputs": [
    {
     "data": {
      "text/plain": [
       "[2, 2, 5, 5]"
      ]
     },
     "execution_count": 9,
     "metadata": {},
     "output_type": "execute_result"
    }
   ],
   "source": [
    "def prime_factors(n):\n",
    "    i = 2\n",
    "    factors = []\n",
    "    while i * i <= n:\n",
    "        if n % i:\n",
    "            i += 1\n",
    "        else:\n",
    "            n //= i\n",
    "            factors.append(i)\n",
    "    if n > 1:\n",
    "        factors.append(n)\n",
    "    return factors\n",
    "\n",
    "prime_factors(100)"
   ]
  }
 ],
 "metadata": {
  "interpreter": {
   "hash": "f5c89ac8f655ef5725573181cea2b9194472e63e693f5bbcb02f6a286fc2006c"
  },
  "kernelspec": {
   "display_name": "Python 3.8.12",
   "language": "python",
   "name": "python3"
  },
  "language_info": {
   "codemirror_mode": {
    "name": "ipython",
    "version": 3
   },
   "file_extension": ".py",
   "mimetype": "text/x-python",
   "name": "python",
   "nbconvert_exporter": "python",
   "pygments_lexer": "ipython3",
   "version": "3.9.7"
  },
  "orig_nbformat": 4
 },
 "nbformat": 4,
 "nbformat_minor": 2
}
