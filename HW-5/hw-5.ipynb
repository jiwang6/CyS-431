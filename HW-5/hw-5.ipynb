{
 "cells": [
  {
   "cell_type": "code",
   "execution_count": 62,
   "metadata": {},
   "outputs": [
    {
     "name": "stdout",
     "output_type": "stream",
     "text": [
      "r = 26490\n",
      "t = 19925\n"
     ]
    }
   ],
   "source": [
    "# problem 1\n",
    "\n",
    "print(f\"r = {pow(5,15,41243)}\")\n",
    "print(f\"t = {pow(2362,15,41243) * 2020 % 41243}\")"
   ]
  },
  {
   "cell_type": "code",
   "execution_count": 63,
   "metadata": {},
   "outputs": [
    {
     "name": "stdout",
     "output_type": "stream",
     "text": [
      "M = 13479\n",
      "k = 3618\n"
     ]
    }
   ],
   "source": [
    "# problem 2\n",
    "\n",
    "from math import ceil, sqrt\n",
    "def bsgs(Q, g, p): # Q = g^x mod p\n",
    "\t# sourcery skip: inline-immediately-returned-variable\n",
    "\tm = ceil(sqrt(p))  \n",
    "\ttbl = {}\n",
    "\tfor j in range(m+1):\n",
    "\t\te = pow(g,j,p)\n",
    "\t\td = {e:j}\n",
    "\t\ttbl |= d\n",
    "\tc = pow(g, -1 * m, p)\n",
    "\tfor i in range(m):\n",
    "\t\ty = (Q * pow(c, i, p)) % p\n",
    "\t\tif y in tbl:\n",
    "\t\t\tx = i * m + tbl[y]\n",
    "\t\t\treturn x\n",
    "\treturn None\n",
    "\t\n",
    "print(f\"M = {8* pow(6,-17,41233) % 41233}\")\n",
    "print(f\"k = {bsgs(6,19,41233)}\")"
   ]
  },
  {
   "cell_type": "code",
   "execution_count": 64,
   "metadata": {},
   "outputs": [
    {
     "name": "stdout",
     "output_type": "stream",
     "text": [
      "probability = 0.2250208308985081\n"
     ]
    }
   ],
   "source": [
    "# problem 3\n",
    "\n",
    "# assume number of cadets = 23\n",
    "\n",
    "num_cadets = 23\n",
    "\n",
    "negative_pos = 1\n",
    "\n",
    "for num in range(1,num_cadets):\n",
    "    negative_pos *= 1-(num/1000)\n",
    "\n",
    "print(f\"probability = {1-negative_pos}\")"
   ]
  },
  {
   "cell_type": "code",
   "execution_count": 65,
   "metadata": {},
   "outputs": [
    {
     "name": "stdout",
     "output_type": "stream",
     "text": [
      "probability = 0.010445586982939847\n"
     ]
    }
   ],
   "source": [
    "# problem 4\n",
    "\n",
    "num_cadets = 105\n",
    "\n",
    "print(f\"probability = {1-(1-1/10000)**num_cadets}\")\n"
   ]
  },
  {
   "cell_type": "code",
   "execution_count": 69,
   "metadata": {},
   "outputs": [
    {
     "name": "stdout",
     "output_type": "stream",
     "text": [
      "MD5 hashes:\n",
      "79054025255fb1a26e4bc422aef54eb4\n",
      "79054025255fb1a26e4bc422aef54eb4\n"
     ]
    }
   ],
   "source": [
    "# problem 5\n",
    "import hashlib\n",
    "\n",
    "def md5_hash(filename):\n",
    "    \"\"\"\n",
    "    returns md5 hash of a file\n",
    "    \"\"\"\n",
    "    hash_md5 = hashlib.md5()\n",
    "    with open(filename, \"rb\") as f:\n",
    "        for chunk in iter(lambda: f.read(4096), b\"\"):\n",
    "            hash_md5.update(chunk)\n",
    "    return hash_md5.hexdigest()\n",
    "\n",
    "print(\"MD5 hashes:\")\n",
    "print(md5_hash('file1.bin'))\n",
    "print(md5_hash('file2.bin'))\n"
   ]
  },
  {
   "cell_type": "code",
   "execution_count": 68,
   "metadata": {},
   "outputs": [
    {
     "name": "stdout",
     "output_type": "stream",
     "text": [
      "b'\\x87' in file 1 is replaced with b'\\x07' in file 2\n",
      "b'q' in file 1 is replaced with b'\\xf1' in file 2\n",
      "b'\\xf2' in file 1 is replaced with b'r' in file 2\n",
      "b'\\xb4' in file 1 is replaced with b'4' in file 2\n",
      "b'\\xa8' in file 1 is replaced with b'(' in file 2\n",
      "b'+' in file 1 is replaced with b'\\xab' in file 2\n"
     ]
    }
   ],
   "source": [
    "# problem 5 continued\n",
    "def compare_files(file1, file2):\n",
    "    with open(file1, 'rb') as f1:\n",
    "        with open(file2, 'rb') as f2:\n",
    "            #print(f1.read(), f2.read())\n",
    "            while True:\n",
    "                b1 = f1.read(1)\n",
    "                b2 = f2.read(1)\n",
    "                if b1 != b2:\n",
    "                    print(f'{b1} in file 1 is replaced with {b2} in file 2')\n",
    "                if not b1 and not b2:\n",
    "                    break\n",
    "\n",
    "compare_files('file1.bin', 'file2.bin')\n"
   ]
  },
  {
   "cell_type": "markdown",
   "metadata": {},
   "source": [
    "## Documentation:\n",
    "\n",
    "bsgs implementation found at: https://gist.github.com/0xTowel/b4e7233fc86d8bb49698e4f1318a5a73\n",
    "\n",
    "github copilot helped with #5 implementation"
   ]
  }
 ],
 "metadata": {
  "interpreter": {
   "hash": "b0fa6594d8f4cbf19f97940f81e996739fb7646882a419484c72d19e05852a7e"
  },
  "kernelspec": {
   "display_name": "Python 3.9.10 64-bit",
   "language": "python",
   "name": "python3"
  },
  "language_info": {
   "codemirror_mode": {
    "name": "ipython",
    "version": 3
   },
   "file_extension": ".py",
   "mimetype": "text/x-python",
   "name": "python",
   "nbconvert_exporter": "python",
   "pygments_lexer": "ipython3",
   "version": "3.9.10"
  },
  "orig_nbformat": 4
 },
 "nbformat": 4,
 "nbformat_minor": 2
}
