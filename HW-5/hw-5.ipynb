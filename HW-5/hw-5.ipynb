{
 "cells": [
  {
   "cell_type": "code",
   "execution_count": 5,
   "metadata": {},
   "outputs": [
    {
     "name": "stdout",
     "output_type": "stream",
     "text": [
      "79054025255fb1a26e4bc422aef54eb4\n",
      "79054025255fb1a26e4bc422aef54eb4\n"
     ]
    }
   ],
   "source": [
    "# open two binary files and print md5 hash of both\n",
    "import hashlib\n",
    "\n",
    "def md5_hash(filename):\n",
    "    \"\"\"\n",
    "    returns md5 hash of a file\n",
    "    \"\"\"\n",
    "    hash_md5 = hashlib.md5()\n",
    "    with open(filename, \"rb\") as f:\n",
    "        for chunk in iter(lambda: f.read(4096), b\"\"):\n",
    "            hash_md5.update(chunk)\n",
    "    return hash_md5.hexdigest()\n",
    "\n",
    "print(md5_hash('file1.bin'))\n",
    "print(md5_hash('file2.bin'))"
   ]
  },
  {
   "cell_type": "code",
   "execution_count": 4,
   "metadata": {},
   "outputs": [
    {
     "name": "stdout",
     "output_type": "stream",
     "text": [
      "b'\\x87' != b'\\x07'\n",
      "b'q' != b'\\xf1'\n",
      "b'\\xf2' != b'r'\n",
      "b'\\xb4' != b'4'\n",
      "b'\\xa8' != b'('\n",
      "b'+' != b'\\xab'\n"
     ]
    }
   ],
   "source": [
    "# compare two binary files and print the differences\n",
    "def compare_files(file1, file2):\n",
    "    with open(file1, 'rb') as f1:\n",
    "        with open(file2, 'rb') as f2:\n",
    "            while True:\n",
    "                b1 = f1.read(1)\n",
    "                b2 = f2.read(1)\n",
    "                if b1 != b2:\n",
    "                    print(f'{b1} != {b2}')\n",
    "                if not b1 and not b2:\n",
    "                    break\n",
    "\n",
    "compare_files('file1.bin', 'file2.bin')\n"
   ]
  }
 ],
 "metadata": {
  "interpreter": {
   "hash": "b0fa6594d8f4cbf19f97940f81e996739fb7646882a419484c72d19e05852a7e"
  },
  "kernelspec": {
   "display_name": "Python 3.9.10 64-bit",
   "language": "python",
   "name": "python3"
  },
  "language_info": {
   "codemirror_mode": {
    "name": "ipython",
    "version": 3
   },
   "file_extension": ".py",
   "mimetype": "text/x-python",
   "name": "python",
   "nbconvert_exporter": "python",
   "pygments_lexer": "ipython3",
   "version": "3.9.10"
  },
  "orig_nbformat": 4
 },
 "nbformat": 4,
 "nbformat_minor": 2
}
