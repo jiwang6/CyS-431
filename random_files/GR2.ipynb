{
 "cells": [
  {
   "cell_type": "code",
   "execution_count": 116,
   "metadata": {},
   "outputs": [
    {
     "name": "stdout",
     "output_type": "stream",
     "text": [
      "8^1 = 8 (mod 31)\n",
      "8^2 = 2 (mod 31)\n",
      "8^3 = 16 (mod 31)\n",
      "8^4 = 4 (mod 31)\n",
      "8^5 = 1 (mod 31)\n",
      "8^6 = 8 (mod 31) REPEAT\n"
     ]
    }
   ],
   "source": [
    "# Prim roots test\n",
    "\n",
    "def check_p_root(a, p):\n",
    "    temp_arry = []\n",
    "    for e in range(1,p):\n",
    "        ae = pow(a,e,p)\n",
    "        print(f\"{a}^{e} = {ae} (mod {p})\", end = \"\")\n",
    "        if ae in temp_arry:\n",
    "            print(\" REPEAT\")\n",
    "            return\n",
    "        else:\n",
    "            print(\"\")\n",
    "        temp_arry.append(ae)\n",
    "\n",
    "check_p_root(8, 31)\n"
   ]
  },
  {
   "cell_type": "code",
   "execution_count": 117,
   "metadata": {},
   "outputs": [
    {
     "name": "stdout",
     "output_type": "stream",
     "text": [
      "n = 683, a = 12\n",
      "683 - 1 = 2^1 * 341\n",
      "b_0 = 100185507442485462955413035087900509913811097256232264512524397336975294382970529137298192964014614091174690322971269000511844927687426935319120067422700249332589047681715842684023785544113550277921767612913831569442566951017967406606570925114193999803707687347823573550932217259393248925959829206604346769984641513443977508298662945690562686351744873656930715106803712 = 1 (mod 683)\n",
      "683 is (probably) Prime\n",
      "\n"
     ]
    }
   ],
   "source": [
    "import random\n",
    "\n",
    "def miller_rabin(n):\n",
    "\ta = 12 # set to whatever value\n",
    "\n",
    "\tprint(f\"n = {n}, a = {a}\")\n",
    "\n",
    "\tk, m = 0, n - 1\n",
    "\twhile m % 2 == 0:\n",
    "\t\tk += 1\n",
    "\t\tm //= 2\n",
    "\n",
    "\tprint(f\"{n} - 1 = 2^{k} * {m}\")\n",
    "\n",
    "\tif n == 2:\n",
    "\t\treturn True\n",
    "\tif n % 2 == 0:\n",
    "\t\treturn False\n",
    "\n",
    "\tfor i in range(n):\n",
    "\t\tb = pow(a,m) if i ==0 else pow(b_mod,2)\n",
    "\n",
    "\t\tb_mod = b % n\n",
    "\n",
    "\t\tprint(f\"b_{i} = {b} = {b_mod} (mod {n})\")\n",
    "\n",
    "\t\tif i == 0 and b_mod in [n-1, 1]:\n",
    "\t\t\treturn True\n",
    "\n",
    "\t\tif b_mod == 1:\n",
    "\t\t\treturn False\n",
    "\t\telif b_mod == n-1:\n",
    "\t\t\treturn True\n",
    "\t\t\n",
    "\t\tif i == n-1 and b_mod != n-1:\n",
    "\t\t\treturn False\n",
    "\n",
    "\n",
    "n = 683\n",
    "\n",
    "print(f\"{n} is (probably) Prime\" if miller_rabin(n) else f\"{n} is Composite\", end = \"\\n\\n\")\n",
    "\t"
   ]
  },
  {
   "cell_type": "code",
   "execution_count": 118,
   "metadata": {},
   "outputs": [
    {
     "name": "stdout",
     "output_type": "stream",
     "text": [
      "a  b  d\n",
      "12 12 1\n",
      "19 47 7\n",
      "factor: 7 a = 19, b = 47\n"
     ]
    }
   ],
   "source": [
    "import random\n",
    "from math import gcd\n",
    "\n",
    "def pollard_rho(n, f=lambda x: x**2 + 1):\n",
    "\tif n in [1,2,3]:\n",
    "\t\treturn (-1, -1, -1)\n",
    "\n",
    "\tseed = random.randint(2,n-1) # set to whatever value\n",
    "\ta, b, d = seed, seed, 1\n",
    "\tprint(\"a  b  d\")\n",
    "\tprint(a,b,d)\n",
    "\twhile d == 1:\n",
    "\t\ta = f(a) % n\n",
    "\t\tb = f(f(b)) % n\n",
    "\t\td = gcd((a - b) % n, n)\n",
    "\t\tprint(a,b,d)\n",
    "\treturn (d, a, b) if d != n else (-1, -1, -1)\n",
    "\n",
    "n = 63\n",
    "(d,a,b) = pollard_rho(n)\n",
    "\n",
    "print(f\"factor: {d} a = {a}, b = {b}\")"
   ]
  },
  {
   "cell_type": "code",
   "execution_count": 119,
   "metadata": {},
   "outputs": [
    {
     "name": "stdout",
     "output_type": "stream",
     "text": [
      "m = 8\n",
      "11^0 = 1 (mod 59)\n",
      "11^1 = 11 (mod 59)\n",
      "11^2 = 3 (mod 59)\n",
      "11^3 = 33 (mod 59)\n",
      "11^4 = 9 (mod 59)\n",
      "11^5 = 40 (mod 59)\n",
      "11^6 = 27 (mod 59)\n",
      "11^7 = 2 (mod 59)\n",
      "11^8 = 22 (mod 59)\n",
      "44 * 11^(-8)^0 = 44 (mod 59)\n",
      "44 * 11^(-8)^1 = 2 (mod 59)\n",
      "x = 1 * 8 + 7 = 15\n",
      "i = 1, j = 7\n",
      "15\n"
     ]
    },
    {
     "data": {
      "text/plain": [
       "44"
      ]
     },
     "execution_count": 119,
     "metadata": {},
     "output_type": "execute_result"
    }
   ],
   "source": [
    "from math import ceil, sqrt\n",
    "\n",
    "\n",
    "def bsgs(Q, g, p): # Q = g^x mod p\n",
    "    \n",
    "    m = ceil(sqrt(p))  # phi(p) is p-1 if p is prime\n",
    "    print(f\"m = {m}\")\n",
    "    #tbl = {pow(g, i, p): i for i in range(m+1)}\n",
    "\n",
    "    tbl = {}\n",
    "    for j in range(m+1):\n",
    "        e = pow(g,j,p)\n",
    "        d = {e:j}\n",
    "        print(f\"{g}^{j} = {e} (mod {p})\")\n",
    "        tbl.update(d)\n",
    "\n",
    "    c = pow(g, -1 * m, p)\n",
    "\n",
    "    for i in range(m):\n",
    "        y = (Q * pow(c, i, p)) % p\n",
    "        print(f\"{Q} * {g}^(-{m})^{i} = {y} (mod {p})\")\n",
    "        if y in tbl:\n",
    "            x = i * m + tbl[y]\n",
    "            print(f\"x = {i} * {m} + {tbl[y]} = {x}\")\n",
    "            print(f\"i = {i}, j = {tbl[y]}\")\n",
    "            return x\n",
    "    return None\n",
    "\n",
    "print(bsgs(44, 11, 59))\n",
    "\n",
    "pow(11,15,59)"
   ]
  },
  {
   "cell_type": "code",
   "execution_count": 120,
   "metadata": {},
   "outputs": [
    {
     "name": "stdout",
     "output_type": "stream",
     "text": [
      "4000\n",
      "2021\n",
      "4007\n"
     ]
    }
   ],
   "source": [
    "from sympy import totient\n",
    "\n",
    "# last n digits\n",
    "def last_n_dig (base, big_exp, digits):\n",
    "    modulo = 10**digits\n",
    "    true_exp = big_exp % totient(modulo)\n",
    "\n",
    "    print(totient(modulo))\n",
    "\n",
    "    print(true_exp)\n",
    "\n",
    "    short = pow(base, true_exp, modulo)\n",
    "    if short < 10**(digits-1):\n",
    "        print(\"0\", end=\"\")\n",
    "    print(short)\n",
    "\n",
    "last_n_dig(7, 8008008008008008008008008008008008002021,4)"
   ]
  },
  {
   "cell_type": "code",
   "execution_count": 121,
   "metadata": {},
   "outputs": [
    {
     "data": {
      "text/plain": [
       "[5, 7, 10, 11, 14, 15, 17, 19, 20, 21]"
      ]
     },
     "execution_count": 121,
     "metadata": {},
     "output_type": "execute_result"
    }
   ],
   "source": [
    "def primRoots(modulo):\n",
    "    coprime_set = {num for num in range(1, modulo) if gcd(num, modulo) == 1}\n",
    "    return [g for g in range(1, modulo) if coprime_set == {pow(g, powers, modulo)\n",
    "            for powers in range(1, modulo)}]\n",
    "\n",
    "primRoots(23)"
   ]
  },
  {
   "cell_type": "code",
   "execution_count": 122,
   "metadata": {},
   "outputs": [
    {
     "name": "stdout",
     "output_type": "stream",
     "text": [
      "19\n"
     ]
    }
   ],
   "source": [
    "def EG_gen(p, alph, b): #0 <= b < p\n",
    "    beta = pow(alph,b,p)\n",
    "    return (p, alph, beta)\n",
    "\n",
    "def EG_encrypt(M, pub_key, k):\n",
    "    p = pub_key[0]\n",
    "    alph = pub_key[1]\n",
    "    beta = pub_key[2]\n",
    "    r = pow(alph,k,p)\n",
    "    t = (pow(beta,k,p) * M ) % p\n",
    "    return(r,t)\n",
    "\n",
    "def EG_decrypt(cipher,p, b):\n",
    "    r = cipher[0]\n",
    "    t = cipher[1]\n",
    "    return (t * pow(r,-b,p) ) % p\n",
    "\n",
    "p = 23\n",
    "alph = 14\n",
    "b = 19\n",
    "\n",
    "pk = EG_gen(p, alph, b)\n",
    "\n",
    "M = 19\n",
    "\n",
    "k = 17\n",
    "\n",
    "ct = EG_encrypt(M, pk, k)\n",
    "\n",
    "pt = EG_decrypt(ct, p, b)\n",
    "\n",
    "print(pt)"
   ]
  },
  {
   "cell_type": "code",
   "execution_count": 123,
   "metadata": {},
   "outputs": [],
   "source": [
    "def prime_factors(n):\n",
    "    i = 2\n",
    "    factors = []\n",
    "    while i ** 2 <= n:\n",
    "        if n % i:\n",
    "            i += 1\n",
    "        else:\n",
    "            n //= i\n",
    "            factors.append(i)\n",
    "    if n > 1:\n",
    "        factors.append(n)\n",
    "    return factors"
   ]
  },
  {
   "cell_type": "code",
   "execution_count": 124,
   "metadata": {},
   "outputs": [
    {
     "name": "stdout",
     "output_type": "stream",
     "text": [
      "[281]\n",
      "73903\n",
      "73360\n",
      "48907\n",
      "6859\n",
      "19\n"
     ]
    }
   ],
   "source": [
    "# RSA RUN THROUGH\n",
    "\n",
    "p = 263\n",
    "q = 281\n",
    "\n",
    "print(prime_factors(q))\n",
    "\n",
    "n = p*q\n",
    "\n",
    "print(n)\n",
    "\n",
    "phi_n = totient(n)\n",
    "\n",
    "print(phi_n)\n",
    "d = pow(3,-1,phi_n)\n",
    "print(d)\n",
    "\n",
    "\n",
    "c = pow(19,3,n)\n",
    "print(c)\n",
    "d = pow(c,d, n)\n",
    "print(d)\n"
   ]
  },
  {
   "cell_type": "code",
   "execution_count": 125,
   "metadata": {},
   "outputs": [
    {
     "name": "stdout",
     "output_type": "stream",
     "text": [
      "134144\n",
      "[2, 2, 2, 2, 2, 2, 2, 2, 2, 2, 131]\n",
      "512.0 262.0\n",
      "[3, 3, 3, 19.0]\n",
      "[263.0]\n",
      "512.0\n"
     ]
    }
   ],
   "source": [
    "#???? trying to figure out n from d,e IS NOT GOOD\n",
    "\n",
    "e = 3\n",
    "d = 44715\n",
    "\n",
    "k = 1\n",
    "\n",
    "p_n = k*(e * d) - 1\n",
    "\n",
    "print(p_n)\n",
    "\n",
    "fac_arry = prime_factors(p_n)\n",
    "\n",
    "print(fac_arry)\n",
    "\n",
    "p = p_n / (2*131)\n",
    "q = p_n / p\n",
    "\n",
    "print(p,q)\n",
    "\n",
    "print(prime_factors(p+1))\n",
    "print(prime_factors(q+1))\n",
    "\n",
    "print(p_n / 262)\n"
   ]
  },
  {
   "cell_type": "code",
   "execution_count": 126,
   "metadata": {},
   "outputs": [
    {
     "name": "stdout",
     "output_type": "stream",
     "text": [
      "48\n",
      "[2, 2, 2, 2, 3]\n",
      "195\n",
      "[3, 5, 13]\n",
      "65\n",
      "[5, 13]\n",
      "49\n",
      "[7, 7]\n"
     ]
    },
    {
     "data": {
      "text/plain": [
       "61.0"
      ]
     },
     "execution_count": 126,
     "metadata": {},
     "output_type": "execute_result"
    }
   ],
   "source": [
    "# DIXON\n",
    "\n",
    "for n in [93,77,120, 54]:\n",
    "    print(pow(n,2,2867))\n",
    "    print(prime_factors(pow(n,2,2867)))\n",
    "    \n",
    "    \n",
    "    \n",
    "2867 / 47"
   ]
  }
 ],
 "metadata": {
  "interpreter": {
   "hash": "b0fa6594d8f4cbf19f97940f81e996739fb7646882a419484c72d19e05852a7e"
  },
  "kernelspec": {
   "display_name": "Python 3.9.10 64-bit",
   "language": "python",
   "name": "python3"
  },
  "language_info": {
   "codemirror_mode": {
    "name": "ipython",
    "version": 3
   },
   "file_extension": ".py",
   "mimetype": "text/x-python",
   "name": "python",
   "nbconvert_exporter": "python",
   "pygments_lexer": "ipython3",
   "version": "3.9.10"
  },
  "orig_nbformat": 4
 },
 "nbformat": 4,
 "nbformat_minor": 2
}
