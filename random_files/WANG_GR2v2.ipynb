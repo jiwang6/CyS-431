{
 "cells": [
  {
   "cell_type": "code",
   "execution_count": 14,
   "metadata": {},
   "outputs": [
    {
     "name": "stdout",
     "output_type": "stream",
     "text": [
      "6^1 = 6 (mod 13)\n",
      "6^2 = 10 (mod 13)\n",
      "6^3 = 8 (mod 13)\n",
      "6^4 = 9 (mod 13)\n",
      "6^5 = 2 (mod 13)\n",
      "6^6 = 12 (mod 13)\n",
      "6^7 = 7 (mod 13)\n",
      "6^8 = 3 (mod 13)\n",
      "6^9 = 5 (mod 13)\n",
      "6^10 = 4 (mod 13)\n",
      "6^11 = 11 (mod 13)\n",
      "6^12 = 1 (mod 13)\n"
     ]
    }
   ],
   "source": [
    "# Prim roots test\n",
    "\n",
    "def check_p_root(a, p):\n",
    "    temp_arry = []\n",
    "    for e in range(1,p):\n",
    "        ae = pow(a,e,p)\n",
    "        print(f\"{a}^{e} = {ae} (mod {p})\", end = \"\")\n",
    "        if ae in temp_arry:\n",
    "            print(\" REPEAT\")\n",
    "            return\n",
    "        else:\n",
    "            print(\"\")\n",
    "        temp_arry.append(ae)\n",
    "\n",
    "check_p_root(6, 13)\n"
   ]
  },
  {
   "cell_type": "code",
   "execution_count": 15,
   "metadata": {},
   "outputs": [
    {
     "name": "stdout",
     "output_type": "stream",
     "text": [
      "n = 857, a = 10\n",
      "857 - 1 = 2^3 * 107\n",
      "b_0 = 100000000000000000000000000000000000000000000000000000000000000000000000000000000000000000000000000000000000 = 506 (mod 857)\n",
      "b_1 = 256036 = 650 (mod 857)\n",
      "b_2 = 422500 = 856 (mod 857)\n",
      "857 is (probably) Prime\n",
      "\n"
     ]
    }
   ],
   "source": [
    "import random\n",
    "\n",
    "def miller_rabin(n):\n",
    "\ta = 10 # set to root value\n",
    "\n",
    "\tprint(f\"n = {n}, a = {a}\")\n",
    "\n",
    "\tk, m = 0, n - 1\n",
    "\twhile m % 2 == 0:\n",
    "\t\tk += 1\n",
    "\t\tm //= 2\n",
    "\n",
    "\tprint(f\"{n} - 1 = 2^{k} * {m}\")\n",
    "\n",
    "\tif n == 2:\n",
    "\t\treturn True\n",
    "\tif n % 2 == 0:\n",
    "\t\treturn False\n",
    "\n",
    "\tfor i in range(n):\n",
    "\t\tb = pow(a,m) if i ==0 else pow(b_mod,2)\n",
    "\n",
    "\t\tb_mod = b % n\n",
    "\n",
    "\t\tprint(f\"b_{i} = {b} = {b_mod} (mod {n})\")\n",
    "\n",
    "\t\tif i == 0 and b_mod in [n-1, 1]:\n",
    "\t\t\treturn True\n",
    "\n",
    "\t\tif b_mod == 1:\n",
    "\t\t\treturn False\n",
    "\t\telif b_mod == n-1:\n",
    "\t\t\treturn True\n",
    "\t\t\n",
    "\t\tif i == n-1 and b_mod != n-1:\n",
    "\t\t\treturn False\n",
    "\n",
    "\n",
    "n = 857\n",
    "\n",
    "print(f\"{n} is (probably) Prime\" if miller_rabin(n) else f\"{n} is Composite\", end = \"\\n\\n\")\n",
    "\t"
   ]
  },
  {
   "cell_type": "code",
   "execution_count": 37,
   "metadata": {},
   "outputs": [
    {
     "name": "stdout",
     "output_type": "stream",
     "text": [
      "m = 9\n",
      "13^0 = 1 (mod 71)\n",
      "13^1 = 13 (mod 71)\n",
      "13^2 = 27 (mod 71)\n",
      "13^3 = 67 (mod 71)\n",
      "13^4 = 19 (mod 71)\n",
      "13^5 = 34 (mod 71)\n",
      "13^6 = 16 (mod 71)\n",
      "13^7 = 66 (mod 71)\n",
      "13^8 = 6 (mod 71)\n",
      "13^9 = 7 (mod 71)\n",
      "56 * 13^(-9)^0 = 56 (mod 71)\n",
      "56 * 13^(-9)^1 = 8 (mod 71)\n",
      "56 * 13^(-9)^2 = 62 (mod 71)\n",
      "56 * 13^(-9)^3 = 19 (mod 71)\n",
      "x = 3 * 9 + 4 = 31\n",
      "i = 3, j = 4\n",
      "31\n",
      "thing, 11\n"
     ]
    },
    {
     "data": {
      "text/plain": [
       "56"
      ]
     },
     "execution_count": 37,
     "metadata": {},
     "output_type": "execute_result"
    }
   ],
   "source": [
    "from math import ceil, sqrt\n",
    "\n",
    "\n",
    "def bsgs(Q, g, p): # Q = g^x mod p\n",
    "    \n",
    "    m = ceil(sqrt(p))  # phi(p) is p-1 if p is prime\n",
    "    print(f\"m = {m}\")\n",
    "    #tbl = {pow(g, i, p): i for i in range(m+1)}\n",
    "\n",
    "    tbl = {}\n",
    "    for j in range(m+1):\n",
    "        e = pow(g,j,p)\n",
    "        d = {e:j}\n",
    "        print(f\"{g}^{j} = {e} (mod {p})\")\n",
    "        tbl |= d\n",
    "\n",
    "    c = pow(g, -1 * m, p)\n",
    "\n",
    "    for i in range(m):\n",
    "        y = (Q * pow(c, i, p)) % p\n",
    "        print(f\"{Q} * {g}^(-{m})^{i} = {y} (mod {p})\")\n",
    "        if y in tbl:\n",
    "            x = i * m + tbl[y]\n",
    "            print(f\"x = {i} * {m} + {tbl[y]} = {x}\")\n",
    "            print(f\"i = {i}, j = {tbl[y]}\")\n",
    "            return x\n",
    "    return None\n",
    "\n",
    "print(bsgs(56, 13, 71))\n",
    "\n",
    "print(f\"thing, {pow(13,-1,71)}\")\n",
    "\n",
    "pow(13,31,71)"
   ]
  },
  {
   "cell_type": "code",
   "execution_count": 42,
   "metadata": {},
   "outputs": [
    {
     "name": "stdout",
     "output_type": "stream",
     "text": [
      "40\n",
      "23\n",
      "97\n"
     ]
    },
    {
     "data": {
      "text/plain": [
       "2.002002002002002e+38"
      ]
     },
     "execution_count": 42,
     "metadata": {},
     "output_type": "execute_result"
    }
   ],
   "source": [
    "from sympy import totient\n",
    "\n",
    "# last n digits\n",
    "def last_n_dig (base, big_exp, digits):\n",
    "    modulo = 10**digits\n",
    "    true_exp = big_exp % totient(modulo)\n",
    "\n",
    "    print(totient(modulo))\n",
    "\n",
    "    print(true_exp)\n",
    "\n",
    "    short = pow(base, true_exp, modulo)\n",
    "    if short < 10**(digits-1):\n",
    "        print(\"0\", end=\"\")\n",
    "    print(short)\n",
    "\n",
    "last_n_dig(13, 8008008008008008008008008008008008002023,2)\n",
    "\n",
    "\n"
   ]
  },
  {
   "cell_type": "code",
   "execution_count": 18,
   "metadata": {},
   "outputs": [],
   "source": [
    "def prime_factors(n):\n",
    "    i = 2\n",
    "    factors = []\n",
    "    while i ** 2 <= n:\n",
    "        if n % i:\n",
    "            i += 1\n",
    "        else:\n",
    "            n //= i\n",
    "            factors.append(i)\n",
    "    if n > 1:\n",
    "        factors.append(n)\n",
    "    return factors"
   ]
  },
  {
   "cell_type": "code",
   "execution_count": 30,
   "metadata": {},
   "outputs": [
    {
     "name": "stdout",
     "output_type": "stream",
     "text": [
      "[137]\n",
      "17947\n",
      "phi: 17680\n",
      "d=11787\n",
      "c = 5832\n",
      "18\n"
     ]
    }
   ],
   "source": [
    "# RSA RUN THROUGH\n",
    "\n",
    "p = 131\n",
    "q = 137\n",
    "\n",
    "print(prime_factors(137))\n",
    "\n",
    "n = p*q\n",
    "\n",
    "print(n)\n",
    "\n",
    "phi_n = totient(n)\n",
    "\n",
    "print(f\"phi: {phi_n}\")\n",
    "d = pow(3,-1,phi_n)\n",
    "print(f\"d={d}\")\n",
    "\n",
    "\n",
    "c = pow(18,3,n)\n",
    "print(f\"c = {c}\")\n",
    "d = pow(c,d, n)\n",
    "print(d)\n"
   ]
  },
  {
   "cell_type": "code",
   "execution_count": 36,
   "metadata": {},
   "outputs": [
    {
     "name": "stdout",
     "output_type": "stream",
     "text": [
      "82\n",
      "405\n",
      "[3, 3, 3, 3, 5]\n",
      "139\n",
      "364\n",
      "[2, 2, 7, 13]\n",
      "162\n",
      "968\n",
      "[2, 2, 2, 11, 11]\n",
      "160\n",
      "324\n",
      "[2, 2, 3, 3, 3, 3]\n",
      "180\n",
      "805\n",
      "[5, 7, 23]\n",
      "211\n",
      "288\n",
      "[2, 2, 2, 2, 2, 3, 3]\n"
     ]
    },
    {
     "data": {
      "text/plain": [
       "89.0"
      ]
     },
     "execution_count": 36,
     "metadata": {},
     "output_type": "execute_result"
    }
   ],
   "source": [
    "# DIXON\n",
    "\n",
    "for n in [82, 139, 162, 160, 180, 211]:\n",
    "    print(n)\n",
    "    print(pow(n,2,6319))\n",
    "    print(prime_factors(pow(n,2,6319)))\n",
    "    \n",
    "    \n",
    "import math\n",
    "math.gcd(160-18, 6319)\n",
    "\n",
    "6319/71"
   ]
  },
  {
   "cell_type": "code",
   "execution_count": 43,
   "metadata": {},
   "outputs": [
    {
     "data": {
      "text/plain": [
       "56"
      ]
     },
     "execution_count": 43,
     "metadata": {},
     "output_type": "execute_result"
    }
   ],
   "source": [
    "totient(49)\n",
    "pow(13,31,71)"
   ]
  }
 ],
 "metadata": {
  "interpreter": {
   "hash": "b0fa6594d8f4cbf19f97940f81e996739fb7646882a419484c72d19e05852a7e"
  },
  "kernelspec": {
   "display_name": "Python 3.9.10 64-bit",
   "language": "python",
   "name": "python3"
  },
  "language_info": {
   "codemirror_mode": {
    "name": "ipython",
    "version": 3
   },
   "file_extension": ".py",
   "mimetype": "text/x-python",
   "name": "python",
   "nbconvert_exporter": "python",
   "pygments_lexer": "ipython3",
   "version": "3.9.10"
  },
  "orig_nbformat": 4
 },
 "nbformat": 4,
 "nbformat_minor": 2
}
