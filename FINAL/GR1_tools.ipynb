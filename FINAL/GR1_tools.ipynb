{
 "cells": [
  {
   "cell_type": "markdown",
   "metadata": {},
   "source": []
  },
  {
   "cell_type": "code",
   "execution_count": 1,
   "metadata": {},
   "outputs": [
    {
     "name": "stdout",
     "output_type": "stream",
     "text": [
      "39 = 4(9) + 3\n",
      "9 = 3(3) + 0\n",
      "The GCD is 3\n",
      "3 = -4(9) + 1(39)\n"
     ]
    }
   ],
   "source": [
    "def EEA(a, b):\n",
    "    if a == 0:\n",
    "        return b, 0, 1\n",
    "    print(f'{b} = {b//a}({a}) + {b%a}')\n",
    "    gcd, x, y = EEA(b % a, a)\n",
    "    return gcd, y - (b // a) * x, x\n",
    " \n",
    "a = 9\n",
    "b = 39\n",
    "\n",
    "gcd, x, y = EEA(a, b)\n",
    "print('The GCD is', gcd)\n",
    "print(f'{gcd} = {x}({a}) + {y}({b})')"
   ]
  },
  {
   "cell_type": "code",
   "execution_count": 2,
   "metadata": {},
   "outputs": [
    {
     "name": "stdout",
     "output_type": "stream",
     "text": [
      "Solving the congruence: 9x = 18  (mod 39)\n",
      "Particular solution: x = 2\n",
      "General solution: x = 2  (mod 13)\n",
      "x = 2  (mod 13)\n",
      "x = 15  (mod 13)\n",
      "x = 28  (mod 13)\n"
     ]
    }
   ],
   "source": [
    "import math\n",
    "def solve_linear_congruence(a, b, m):\n",
    "    g = math.gcd(a, m)\n",
    "    if b % g:\n",
    "        raise ValueError(\"No solutions\")\n",
    "    a, b, m = a//g, b//g, m//g\n",
    "    return pow(a, -1, m) * b % m, m\n",
    "\n",
    "def print_solutions(a, b, m):\n",
    "    print(f\"Solving the congruence: {a}x = {b}  (mod {m})\")\n",
    "    try:\n",
    "        x, mx = solve_linear_congruence(a, b, m)\n",
    "    except ValueError:\n",
    "        print(\"No solutions\")\n",
    "    else:\n",
    "        print(f\"Particular solution: x = {x}\")\n",
    "        print(f\"General solution: x = {x}  (mod {mx})\")\n",
    "        while x < m:\n",
    "            print(f\"x = {x}  (mod {mx})\")\n",
    "            x += mx\n",
    "\n",
    "\n",
    "print_solutions(9, 18, 39)\n"
   ]
  },
  {
   "cell_type": "code",
   "execution_count": 3,
   "metadata": {},
   "outputs": [
    {
     "data": {
      "text/plain": [
       "[15, 16]"
      ]
     },
     "execution_count": 3,
     "metadata": {},
     "output_type": "execute_result"
    }
   ],
   "source": [
    "def quad_brute(a,n): # x^2 = a (mod n)\n",
    "    return [x for x in range(n) if (x**2) % n == a]\n",
    "\n",
    "quad_brute(8,31)\n"
   ]
  },
  {
   "cell_type": "code",
   "execution_count": 4,
   "metadata": {},
   "outputs": [
    {
     "data": {
      "text/plain": [
       "[2, 2, 2, 2, 2, 2, 2, 2, 2, 2, 131]"
      ]
     },
     "execution_count": 4,
     "metadata": {},
     "output_type": "execute_result"
    }
   ],
   "source": [
    "def prime_factors(n):\n",
    "    i = 2\n",
    "    factors = []\n",
    "    while i ** 2 <= n:\n",
    "        if n % i:\n",
    "            i += 1\n",
    "        else:\n",
    "            n //= i\n",
    "            factors.append(i)\n",
    "    if n > 1:\n",
    "        factors.append(n)\n",
    "    return factors\n",
    "\n",
    "prime_factors(134144)"
   ]
  },
  {
   "cell_type": "code",
   "execution_count": 5,
   "metadata": {},
   "outputs": [
    {
     "name": "stdout",
     "output_type": "stream",
     "text": [
      "phi(91) = 72 \n"
     ]
    },
    {
     "data": {
      "text/plain": [
       "72"
      ]
     },
     "execution_count": 5,
     "metadata": {},
     "output_type": "execute_result"
    }
   ],
   "source": [
    "from sympy.ntheory.factor_ import totient\n",
    "\n",
    "p = 13\n",
    "q = 7\n",
    "\n",
    "n = p * q\n",
    "\n",
    "print(f\"phi({n}) = {totient(n)} \")\n",
    "\n",
    "(p-1) * (q-1)"
   ]
  },
  {
   "cell_type": "code",
   "execution_count": 7,
   "metadata": {},
   "outputs": [
    {
     "name": "stdout",
     "output_type": "stream",
     "text": [
      "s = 13 (mod 60)\n"
     ]
    }
   ],
   "source": [
    "from sympy.ntheory.modular import crt\n",
    "\n",
    "v = [1,1,3] # values\n",
    "m = [3,4,5] # moduli\n",
    "\n",
    "s, m = crt(m, v)\n",
    "\n",
    "print(f\"s = {s} (mod {m})\")"
   ]
  }
 ],
 "metadata": {
  "interpreter": {
   "hash": "b0fa6594d8f4cbf19f97940f81e996739fb7646882a419484c72d19e05852a7e"
  },
  "kernelspec": {
   "display_name": "Python 3.9.10 64-bit",
   "language": "python",
   "name": "python3"
  },
  "language_info": {
   "codemirror_mode": {
    "name": "ipython",
    "version": 3
   },
   "file_extension": ".py",
   "mimetype": "text/x-python",
   "name": "python",
   "nbconvert_exporter": "python",
   "pygments_lexer": "ipython3",
   "version": "3.9.10"
  },
  "orig_nbformat": 4
 },
 "nbformat": 4,
 "nbformat_minor": 2
}
